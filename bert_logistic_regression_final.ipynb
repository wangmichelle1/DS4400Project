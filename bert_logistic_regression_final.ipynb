{
 "cells": [
  {
   "cell_type": "code",
   "execution_count": 25,
   "id": "61b99f93",
   "metadata": {},
   "outputs": [],
   "source": [
    "import pandas as pd\n",
    "import numpy as np\n",
    "import nltk\n",
    "import re\n",
    "import os\n",
    "from tqdm.auto import tqdm\n",
    "from sklearn.model_selection import train_test_split\n",
    "from imblearn.under_sampling import RandomUnderSampler\n",
    "from nltk.stem import WordNetLemmatizer\n",
    "from nltk.corpus import stopwords\n",
    "from sklearn.metrics import classification_report, roc_curve, roc_auc_score\n",
    "import matplotlib.pyplot as plt"
   ]
  },
  {
   "cell_type": "markdown",
   "id": "383804be",
   "metadata": {},
   "source": [
    "# Data Generation and Preprocessing"
   ]
  },
  {
   "cell_type": "code",
   "execution_count": 2,
   "id": "9ce6609d",
   "metadata": {},
   "outputs": [
    {
     "name": "stdout",
     "output_type": "stream",
     "text": [
      "Found X_train, X_test, y_train, y_test numpy files!\n"
     ]
    }
   ],
   "source": [
    "if not os.path.exists('X_train.npy'):\n",
    "    df = pd.read_csv('AI_Human.csv')\n",
    "\n",
    "    X = df['text'].values\n",
    "    y = df['generated'].values\n",
    "\n",
    "    # discarding 90% of the data\n",
    "    X, _, y, _ = train_test_split(X, y, test_size=0.9, random_state=42)\n",
    "\n",
    "    # lowercase all words\n",
    "    X = [word.lower() for word in tqdm(X)]\n",
    "\n",
    "    # remove newline characters\n",
    "    X = [word.replace(\"\\n\", \"\") for word in tqdm(X)]\n",
    "\n",
    "    # remove punctuation and numbers\n",
    "    X = [re.sub(r'[^a-zA-Z\\s]', '', word) for word in tqdm(X)]\n",
    "\n",
    "    class Lemmatizer:\n",
    "        \"\"\"Removes stopwords and performs lemmatization.\"\"\"\n",
    "        def __init__(self):\n",
    "            self.lemmatizer = WordNetLemmatizer()\n",
    "            self.stopwords = set(stopwords.words('english'))\n",
    "\n",
    "        def lemmatize(self, sentence: str) -> str:\n",
    "            \"\"\"Given a sentence, removes stopwords and performs lemmatization.\"\"\"\n",
    "            words = nltk.word_tokenize(sentence)\n",
    "            filtered_words = [self.lemmatizer.lemmatize(word) for word in words if word not in self.stopwords]\n",
    "            return ' '.join(filtered_words)\n",
    "\n",
    "    lemmatizer = Lemmatizer()\n",
    "    X = [lemmatizer.lemmatize(word) for word in tqdm(X)]\n",
    "\n",
    "    X = np.asarray(X)\n",
    "\n",
    "    X_train, X_test, y_train, y_test = train_test_split(X, y, test_size=0.2, random_state=42)\n",
    "\n",
    "    rus = RandomUnderSampler(random_state=42)\n",
    "    X_resampled, y_resampled = rus.fit_resample(X_train.reshape(-1, 1), y_train.reshape(-1, 1))\n",
    "\n",
    "    np.save('X_train.npy', X_resampled)\n",
    "    np.save('y_train.npy', y_resampled)\n",
    "    np.save('X_test.npy', X_test)\n",
    "    np.save('y_test.npy', y_test)\n",
    "else:\n",
    "    print('Found X_train, X_test, y_train, y_test numpy files!')"
   ]
  },
  {
   "cell_type": "code",
   "execution_count": 3,
   "id": "dd8f8422",
   "metadata": {},
   "outputs": [],
   "source": [
    "with open('X_train.npy', 'rb') as f:\n",
    "    X_train = np.load(f)\n",
    "\n",
    "with open('y_train.npy', 'rb') as f:\n",
    "    y_train = np.load(f)\n",
    "\n",
    "with open('X_test.npy', 'rb') as f:\n",
    "    X_test = np.load(f)\n",
    "\n",
    "with open('y_test.npy', 'rb') as f:\n",
    "    y_test = np.load(f)"
   ]
  },
  {
   "cell_type": "markdown",
   "id": "791e9802",
   "metadata": {},
   "source": [
    "# Fine-Tuning BERT For AI/Human Text Classification"
   ]
  },
  {
   "cell_type": "code",
   "execution_count": 4,
   "id": "baf168eb",
   "metadata": {},
   "outputs": [],
   "source": [
    "import torch\n",
    "from transformers import BertTokenizer, BertForSequenceClassification\n",
    "from torch.nn.utils.rnn import pad_sequence"
   ]
  },
  {
   "cell_type": "code",
   "execution_count": 6,
   "id": "4ef003dd",
   "metadata": {},
   "outputs": [
    {
     "name": "stderr",
     "output_type": "stream",
     "text": [
      "Some weights of BertForSequenceClassification were not initialized from the model checkpoint at bert-base-uncased and are newly initialized: ['classifier.bias', 'classifier.weight']\n",
      "You should probably TRAIN this model on a down-stream task to be able to use it for predictions and inference.\n"
     ]
    }
   ],
   "source": [
    "tokenizer = BertTokenizer.from_pretrained('bert-base-uncased')\n",
    "model = BertForSequenceClassification.from_pretrained('bert-base-uncased', num_labels=2)"
   ]
  },
  {
   "cell_type": "code",
   "execution_count": 7,
   "id": "4655498d",
   "metadata": {},
   "outputs": [],
   "source": [
    "# Freeze BERT model parameters\n",
    "for param in model.bert.parameters():\n",
    "    param.requires_grad = False"
   ]
  },
  {
   "cell_type": "code",
   "execution_count": 8,
   "id": "ad1ad8c0",
   "metadata": {},
   "outputs": [],
   "source": [
    "from torch.utils.data import Dataset, DataLoader\n",
    "\n",
    "class BERTSentimentDataset(Dataset):\n",
    "    \"\"\"Dataset for fine-tuning BERT for sentiment classification.\"\"\"\n",
    "    def __init__(self, tokenizer, sentences, labels):\n",
    "        self.tokenizer = tokenizer\n",
    "        self.sentences = sentences\n",
    "        self.labels = labels\n",
    "    \n",
    "    def __getitem__(self, idx):\n",
    "        \"\"\"\n",
    "        Returns a dictionary with the following keys:\n",
    "        - input_ids\n",
    "        - token_type_ids\n",
    "        - attention_mask\n",
    "        - label\n",
    "        \"\"\"\n",
    "        encoded_sentence = self.tokenizer(self.sentences[idx], truncation=True)\n",
    "        encoded_sentence['label'] = self.labels[idx]\n",
    "        return encoded_sentence\n",
    "    \n",
    "    def __len__(self):\n",
    "        return len(self.sentences)"
   ]
  },
  {
   "cell_type": "code",
   "execution_count": 9,
   "id": "906f4654",
   "metadata": {},
   "outputs": [],
   "source": [
    "def collate_fn(batch):\n",
    "    \"\"\"Collates each batch so that input ids and attention masks have 0 padding.\"\"\"\n",
    "    input_ids = [torch.tensor(item['input_ids']) for item in batch]\n",
    "    attention_mask = [torch.tensor(item['attention_mask']) for item in batch]\n",
    "    labels = torch.tensor([item['label'] for item in batch])\n",
    "    input_ids = pad_sequence(input_ids, batch_first=True)\n",
    "    attention_mask = pad_sequence(attention_mask, batch_first=True)\n",
    "    \n",
    "    return {'input_ids': input_ids, 'attention_mask': attention_mask, 'labels': labels}"
   ]
  },
  {
   "cell_type": "code",
   "execution_count": 11,
   "id": "7cade505",
   "metadata": {},
   "outputs": [
    {
     "name": "stdout",
     "output_type": "stream",
     "text": [
      "Loaded model from checkpoint!\n"
     ]
    }
   ],
   "source": [
    "if not os.path.exists('model_checkpoints/BERT_lr_0.002_bs_32_epoch_1.pt'):\n",
    "    lr = 2e-3\n",
    "    batch_size = 32\n",
    "    optimizer = torch.optim.AdamW(model.classifier.parameters(), lr=lr)\n",
    "\n",
    "    train_dataset = BERTSentimentDataset(tokenizer=tokenizer, sentences=X_train.flatten().astype('object'), labels=y_train.astype(np.int64))\n",
    "    train_dataloader = DataLoader(train_dataset, batch_size=batch_size, shuffle=True, collate_fn=collate_fn)\n",
    "\n",
    "    test_dataset = BERTSentimentDataset(tokenizer=tokenizer, sentences=X_test.flatten().astype('object'), labels=y_test.astype(np.int64))\n",
    "    test_dataloader = DataLoader(test_dataset, batch_size=batch_size, shuffle=False, collate_fn=collate_fn)\n",
    "\n",
    "    model.classifier.train()\n",
    "    model.bert.eval()\n",
    "\n",
    "    num_epochs = 1\n",
    "    model_checkpoint_interval = 3\n",
    "    device = torch.device('cuda' if torch.cuda.is_available() else 'cpu')\n",
    "    model.to(device)\n",
    "\n",
    "    progress_bar = tqdm(range(num_epochs * len(train_dataloader)), desc=\"Training\")\n",
    "\n",
    "    for epoch in range(num_epochs):\n",
    "        epoch_loss = 0.0\n",
    "        epoch_length = 0\n",
    "\n",
    "        for batch in train_dataloader:\n",
    "            input_ids = batch['input_ids'].to(device)\n",
    "            attention_mask = batch['attention_mask'].to(device)\n",
    "            labels = batch['labels'].to(device)\n",
    "\n",
    "            outputs = model(input_ids, attention_mask=attention_mask, labels=labels)\n",
    "            loss = outputs.loss\n",
    "\n",
    "            loss.backward()\n",
    "            optimizer.step()\n",
    "            optimizer.zero_grad()\n",
    "\n",
    "            epoch_loss += loss.item()\n",
    "            epoch_length += 1\n",
    "            progress_bar.update(1)\n",
    "            progress_bar.set_postfix({\"Epoch\": epoch+1, \"Loss\": epoch_loss / epoch_length})\n",
    "\n",
    "        print(f\"Epoch {epoch+1} Loss: {epoch_loss / epoch_length:.4f}\")\n",
    "\n",
    "    progress_bar.close()\n",
    "else:\n",
    "    model.load_state_dict(torch.load('model_checkpoints/BERT_lr_0.002_bs_32_epoch_1.pt'))\n",
    "    print('Loaded model from checkpoint!')"
   ]
  },
  {
   "cell_type": "code",
   "execution_count": 12,
   "id": "dbdf7dde",
   "metadata": {},
   "outputs": [
    {
     "name": "stderr",
     "output_type": "stream",
     "text": [
      "Evaluation: 100%|██████████| 305/305 [14:26<00:00,  2.84s/it]"
     ]
    },
    {
     "name": "stdout",
     "output_type": "stream",
     "text": [
      "Evaluation Accuracy: 0.9085\n"
     ]
    },
    {
     "name": "stderr",
     "output_type": "stream",
     "text": [
      "\n"
     ]
    }
   ],
   "source": [
    "model.eval()\n",
    "correct = 0\n",
    "total = 0\n",
    "\n",
    "with torch.no_grad():\n",
    "    for batch in tqdm(test_dataloader, desc=\"Evaluation\"):\n",
    "        input_ids = batch['input_ids'].to(device)\n",
    "        attention_mask = batch['attention_mask'].to(device)\n",
    "        labels = batch['labels'].to(device)\n",
    "\n",
    "        outputs = model(input_ids, attention_mask=attention_mask)\n",
    "        logits = outputs.logits\n",
    "\n",
    "        predictions = torch.argmax(logits, dim=1)\n",
    "        correct += (predictions == labels).sum().item()\n",
    "        total += labels.size(0)\n",
    "\n",
    "accuracy = correct / total\n",
    "print(f\"Evaluation Accuracy: {accuracy:.4f}\")"
   ]
  },
  {
   "cell_type": "code",
   "execution_count": 23,
   "id": "be80f80b",
   "metadata": {},
   "outputs": [
    {
     "name": "stderr",
     "output_type": "stream",
     "text": [
      "Evaluation: 100%|██████████| 305/305 [11:43<00:00,  2.31s/it]\n"
     ]
    }
   ],
   "source": [
    "model.eval()\n",
    "y_preds = np.asarray([])\n",
    "\n",
    "with torch.no_grad():\n",
    "    for batch in tqdm(test_dataloader, desc=\"Evaluation\"):\n",
    "        input_ids = batch['input_ids'].to(device)\n",
    "        attention_mask = batch['attention_mask'].to(device)\n",
    "\n",
    "        outputs = model(input_ids, attention_mask=attention_mask)\n",
    "        logits = outputs.logits\n",
    "\n",
    "        predictions = torch.argmax(logits, dim=1)\n",
    "        y_preds = np.append(y_preds, predictions.cpu().numpy())"
   ]
  },
  {
   "cell_type": "code",
   "execution_count": 27,
   "id": "369ad037",
   "metadata": {},
   "outputs": [
    {
     "name": "stdout",
     "output_type": "stream",
     "text": [
      "              precision    recall  f1-score   support\n",
      "\n",
      "         0.0       0.93      0.93      0.93      6143\n",
      "         1.0       0.88      0.87      0.88      3602\n",
      "\n",
      "    accuracy                           0.91      9745\n",
      "   macro avg       0.90      0.90      0.90      9745\n",
      "weighted avg       0.91      0.91      0.91      9745\n",
      "\n"
     ]
    }
   ],
   "source": [
    "print(classification_report(y_true=y_test, y_pred=y_preds))"
   ]
  },
  {
   "cell_type": "code",
   "execution_count": 12,
   "id": "d7ac7bcc",
   "metadata": {},
   "outputs": [],
   "source": [
    "from sklearn.feature_extraction.text import TfidfVectorizer\n",
    "\n",
    "vectorizer = TfidfVectorizer()\n",
    "X_train_tfidf = vectorizer.fit_transform(X_train.flatten())\n",
    "\n",
    "test_vectorizer = TfidfVectorizer(vocabulary=vectorizer.vocabulary_)\n",
    "X_test_tfidf = test_vectorizer.fit_transform(X_test.flatten())"
   ]
  },
  {
   "cell_type": "code",
   "execution_count": 14,
   "id": "50be1aa7",
   "metadata": {},
   "outputs": [
    {
     "data": {
      "text/html": [
       "<style>#sk-container-id-2 {color: black;}#sk-container-id-2 pre{padding: 0;}#sk-container-id-2 div.sk-toggleable {background-color: white;}#sk-container-id-2 label.sk-toggleable__label {cursor: pointer;display: block;width: 100%;margin-bottom: 0;padding: 0.3em;box-sizing: border-box;text-align: center;}#sk-container-id-2 label.sk-toggleable__label-arrow:before {content: \"▸\";float: left;margin-right: 0.25em;color: #696969;}#sk-container-id-2 label.sk-toggleable__label-arrow:hover:before {color: black;}#sk-container-id-2 div.sk-estimator:hover label.sk-toggleable__label-arrow:before {color: black;}#sk-container-id-2 div.sk-toggleable__content {max-height: 0;max-width: 0;overflow: hidden;text-align: left;background-color: #f0f8ff;}#sk-container-id-2 div.sk-toggleable__content pre {margin: 0.2em;color: black;border-radius: 0.25em;background-color: #f0f8ff;}#sk-container-id-2 input.sk-toggleable__control:checked~div.sk-toggleable__content {max-height: 200px;max-width: 100%;overflow: auto;}#sk-container-id-2 input.sk-toggleable__control:checked~label.sk-toggleable__label-arrow:before {content: \"▾\";}#sk-container-id-2 div.sk-estimator input.sk-toggleable__control:checked~label.sk-toggleable__label {background-color: #d4ebff;}#sk-container-id-2 div.sk-label input.sk-toggleable__control:checked~label.sk-toggleable__label {background-color: #d4ebff;}#sk-container-id-2 input.sk-hidden--visually {border: 0;clip: rect(1px 1px 1px 1px);clip: rect(1px, 1px, 1px, 1px);height: 1px;margin: -1px;overflow: hidden;padding: 0;position: absolute;width: 1px;}#sk-container-id-2 div.sk-estimator {font-family: monospace;background-color: #f0f8ff;border: 1px dotted black;border-radius: 0.25em;box-sizing: border-box;margin-bottom: 0.5em;}#sk-container-id-2 div.sk-estimator:hover {background-color: #d4ebff;}#sk-container-id-2 div.sk-parallel-item::after {content: \"\";width: 100%;border-bottom: 1px solid gray;flex-grow: 1;}#sk-container-id-2 div.sk-label:hover label.sk-toggleable__label {background-color: #d4ebff;}#sk-container-id-2 div.sk-serial::before {content: \"\";position: absolute;border-left: 1px solid gray;box-sizing: border-box;top: 0;bottom: 0;left: 50%;z-index: 0;}#sk-container-id-2 div.sk-serial {display: flex;flex-direction: column;align-items: center;background-color: white;padding-right: 0.2em;padding-left: 0.2em;position: relative;}#sk-container-id-2 div.sk-item {position: relative;z-index: 1;}#sk-container-id-2 div.sk-parallel {display: flex;align-items: stretch;justify-content: center;background-color: white;position: relative;}#sk-container-id-2 div.sk-item::before, #sk-container-id-2 div.sk-parallel-item::before {content: \"\";position: absolute;border-left: 1px solid gray;box-sizing: border-box;top: 0;bottom: 0;left: 50%;z-index: -1;}#sk-container-id-2 div.sk-parallel-item {display: flex;flex-direction: column;z-index: 1;position: relative;background-color: white;}#sk-container-id-2 div.sk-parallel-item:first-child::after {align-self: flex-end;width: 50%;}#sk-container-id-2 div.sk-parallel-item:last-child::after {align-self: flex-start;width: 50%;}#sk-container-id-2 div.sk-parallel-item:only-child::after {width: 0;}#sk-container-id-2 div.sk-dashed-wrapped {border: 1px dashed gray;margin: 0 0.4em 0.5em 0.4em;box-sizing: border-box;padding-bottom: 0.4em;background-color: white;}#sk-container-id-2 div.sk-label label {font-family: monospace;font-weight: bold;display: inline-block;line-height: 1.2em;}#sk-container-id-2 div.sk-label-container {text-align: center;}#sk-container-id-2 div.sk-container {/* jupyter's `normalize.less` sets `[hidden] { display: none; }` but bootstrap.min.css set `[hidden] { display: none !important; }` so we also need the `!important` here to be able to override the default hidden behavior on the sphinx rendered scikit-learn.org. See: https://github.com/scikit-learn/scikit-learn/issues/21755 */display: inline-block !important;position: relative;}#sk-container-id-2 div.sk-text-repr-fallback {display: none;}</style><div id=\"sk-container-id-2\" class=\"sk-top-container\"><div class=\"sk-text-repr-fallback\"><pre>LogisticRegression(random_state=42)</pre><b>In a Jupyter environment, please rerun this cell to show the HTML representation or trust the notebook. <br />On GitHub, the HTML representation is unable to render, please try loading this page with nbviewer.org.</b></div><div class=\"sk-container\" hidden><div class=\"sk-item\"><div class=\"sk-estimator sk-toggleable\"><input class=\"sk-toggleable__control sk-hidden--visually\" id=\"sk-estimator-id-2\" type=\"checkbox\" checked><label for=\"sk-estimator-id-2\" class=\"sk-toggleable__label sk-toggleable__label-arrow\">LogisticRegression</label><div class=\"sk-toggleable__content\"><pre>LogisticRegression(random_state=42)</pre></div></div></div></div></div>"
      ],
      "text/plain": [
       "LogisticRegression(random_state=42)"
      ]
     },
     "execution_count": 14,
     "metadata": {},
     "output_type": "execute_result"
    }
   ],
   "source": [
    "from sklearn.linear_model import LogisticRegression\n",
    "\n",
    "lr_classifier = LogisticRegression(random_state=42)\n",
    "lr_classifier.fit(X_train_tfidf, y_train)"
   ]
  },
  {
   "cell_type": "code",
   "execution_count": 17,
   "id": "953285dd",
   "metadata": {},
   "outputs": [
    {
     "name": "stdout",
     "output_type": "stream",
     "text": [
      "              precision    recall  f1-score   support\n",
      "\n",
      "         0.0       0.99      0.98      0.99      6143\n",
      "         1.0       0.97      0.98      0.98      3602\n",
      "\n",
      "    accuracy                           0.98      9745\n",
      "   macro avg       0.98      0.98      0.98      9745\n",
      "weighted avg       0.98      0.98      0.98      9745\n",
      "\n"
     ]
    }
   ],
   "source": [
    "print(classification_report(y_true=y_test, y_pred=lr_classifier.predict(X_test_tfidf)))"
   ]
  },
  {
   "cell_type": "code",
   "execution_count": 26,
   "id": "065e72e4",
   "metadata": {},
   "outputs": [
    {
     "name": "stdout",
     "output_type": "stream",
     "text": [
      "0.9974788817650909\n"
     ]
    }
   ],
   "source": [
    "print(roc_auc_score(y_true=y_test, \n",
    "                    y_score=lr_classifier.predict_proba(X_test_tfidf)[:, 1], \n",
    "                    average='macro'))"
   ]
  },
  {
   "cell_type": "code",
   "execution_count": 23,
   "id": "be8bc71f",
   "metadata": {},
   "outputs": [
    {
     "data": {
      "image/png": "[encoded data removed]",
      "text/plain": [
       "<Figure size 640x480 with 1 Axes>"
      ]
     },
     "metadata": {},
     "output_type": "display_data"
    }
   ],
   "source": [
    "fpr_list, tpr_list, thresholds = roc_curve(y_true=y_test, \n",
    "                                           y_score=lr_classifier.predict_proba(X_test_tfidf)[:, 1])\n",
    "\n",
    "plt.plot(fpr_list, tpr_list, label='Logistic Regression')\n",
    "plt.plot(np.arange(0, 1.1, 0.1), np.arange(0, 1.1, 0.1), linestyle='--')\n",
    "plt.title('Logistic Regression Receiver Operation Characteristic (ROC) Curve')\n",
    "plt.xlabel('False Positive Rate')\n",
    "plt.ylabel('True Positive Rate')\n",
    "plt.show()"
   ]
  },
  {
   "cell_type": "code",
   "execution_count": 19,
   "id": "44ee02e9",
   "metadata": {},
   "outputs": [],
   "source": [
    "def sort_indices_by_values(indices: np.array, values: np.array) -> np.array:\n",
    "    \"\"\"\n",
    "    Given a list of indices A and a list of values B such that each element in A corresponds \n",
    "    to each element in B (i.e., A[0] -> B[0], A[1] -> B[1], ...), sorts the indices such that \n",
    "    the first index in the resulting list corresponds to the highest value. The second index in\n",
    "    the resulting list corresponds to the second highest value, etc.\n",
    "    \"\"\"\n",
    "    pairs = zip(indices, values)\n",
    "    \n",
    "    # Sort pairs based on values\n",
    "    sorted_pairs = sorted(pairs, key=lambda x: x[1], reverse=True)\n",
    "    \n",
    "    # Extract sorted indices\n",
    "    sorted_indices = [pair[0] for pair in sorted_pairs]\n",
    "    \n",
    "    return sorted_indices"
   ]
  },
  {
   "cell_type": "code",
   "execution_count": 39,
   "id": "6086a517",
   "metadata": {},
   "outputs": [
    {
     "name": "stdout",
     "output_type": "stream",
     "text": [
      "Top 40 words that contributed towards a AI generated prediction:\n",
      " ['important' 'potential' 'additionally' 'provide' 'conclusion' 'super'\n",
      " 'essay' 'reduce' 'lead' 'academic' 'support' 'like' 'youre' 'impact'\n",
      " 'climate' 'number' 'ensure' 'significant' 'popular' 'however' 'focus'\n",
      " 'cool' 'understanding' 'risk' 'consider' 'often' 'ensures' 'privacy'\n",
      " 'hey' 'believe' 'health' 'concern' 'congestion' 'difference' 'difficult'\n",
      " 'theyre' 'balance' 'argue' 'individual' 'essential']\n"
     ]
    }
   ],
   "source": [
    "lr_classifier_coef = lr_classifier.coef_[0]\n",
    "upper_threshold = 0.5\n",
    "top_k = 40\n",
    "\n",
    "indices = np.where(lr_classifier_coef > upper_threshold)[0]\n",
    "values = lr_classifier_coef[lr_classifier_coef > upper_threshold] \n",
    "\n",
    "sorted_indices = sort_indices_by_values(indices, values)\n",
    "print(f'Top {top_k} words that contributed towards a AI generated prediction:\\n', \n",
    "      vectorizer.get_feature_names_out()[sorted_indices][:top_k])"
   ]
  },
  {
   "cell_type": "code",
   "execution_count": 41,
   "id": "f4676dc1",
   "metadata": {},
   "outputs": [
    {
     "name": "stdout",
     "output_type": "stream",
     "text": [
      "Top 40 words that contributed towards a human generated prediction:\n",
      " ['would' 'go' 'people' 'elector' 'paragraph' 'student' 'percent' 'get'\n",
      " 'many' 'going' 'voting' 'car' 'driving' 'nasa' 'person' 'although' 'said'\n",
      " 'project' 'home' 'human' 'venus' 'show' 'smog' 'one' 'text' 'almost'\n",
      " 'probably' 'picture' 'vote' 'kid' 'america' 'computer' 'alien' 'though'\n",
      " 'want' 'emotion' 'say' 'school' 'another' 'earth']\n"
     ]
    }
   ],
   "source": [
    "lr_classifier_coef = lr_classifier.coef_[0]\n",
    "lower_threshold = -0.5\n",
    "top_k = 40\n",
    "\n",
    "indices = np.where(lr_classifier_coef < lower_threshold)[0]\n",
    "values = lr_classifier_coef[lr_classifier_coef < lower_threshold] \n",
    "\n",
    "sorted_indices = sort_indices_by_values(indices, values)[::-1] # reverse to get lowest value first\n",
    "print(f'Top {top_k} words that contributed towards a human generated prediction:\\n', \n",
    "      vectorizer.get_feature_names_out()[sorted_indices][:top_k])"
   ]
  },
  {
   "cell_type": "code",
   "execution_count": 28,
   "id": "2b6fb492",
   "metadata": {},
   "outputs": [
    {
     "name": "stderr",
     "output_type": "stream",
     "text": [
      "c:\\Users\\hkimr\\anaconda3\\envs\\final_nlp_env\\Lib\\site-packages\\sklearn\\linear_model\\_logistic.py:460: ConvergenceWarning: lbfgs failed to converge (status=1):\n",
      "STOP: TOTAL NO. of ITERATIONS REACHED LIMIT.\n",
      "\n",
      "Increase the number of iterations (max_iter) or scale the data as shown in:\n",
      "    https://scikit-learn.org/stable/modules/preprocessing.html\n",
      "Please also refer to the documentation for alternative solver options:\n",
      "    https://scikit-learn.org/stable/modules/linear_model.html#logistic-regression\n",
      "  n_iter_i = _check_optimize_result(\n"
     ]
    },
    {
     "data": {
      "text/html": [
       "<style>#sk-container-id-4 {color: black;}#sk-container-id-4 pre{padding: 0;}#sk-container-id-4 div.sk-toggleable {background-color: white;}#sk-container-id-4 label.sk-toggleable__label {cursor: pointer;display: block;width: 100%;margin-bottom: 0;padding: 0.3em;box-sizing: border-box;text-align: center;}#sk-container-id-4 label.sk-toggleable__label-arrow:before {content: \"▸\";float: left;margin-right: 0.25em;color: #696969;}#sk-container-id-4 label.sk-toggleable__label-arrow:hover:before {color: black;}#sk-container-id-4 div.sk-estimator:hover label.sk-toggleable__label-arrow:before {color: black;}#sk-container-id-4 div.sk-toggleable__content {max-height: 0;max-width: 0;overflow: hidden;text-align: left;background-color: #f0f8ff;}#sk-container-id-4 div.sk-toggleable__content pre {margin: 0.2em;color: black;border-radius: 0.25em;background-color: #f0f8ff;}#sk-container-id-4 input.sk-toggleable__control:checked~div.sk-toggleable__content {max-height: 200px;max-width: 100%;overflow: auto;}#sk-container-id-4 input.sk-toggleable__control:checked~label.sk-toggleable__label-arrow:before {content: \"▾\";}#sk-container-id-4 div.sk-estimator input.sk-toggleable__control:checked~label.sk-toggleable__label {background-color: #d4ebff;}#sk-container-id-4 div.sk-label input.sk-toggleable__control:checked~label.sk-toggleable__label {background-color: #d4ebff;}#sk-container-id-4 input.sk-hidden--visually {border: 0;clip: rect(1px 1px 1px 1px);clip: rect(1px, 1px, 1px, 1px);height: 1px;margin: -1px;overflow: hidden;padding: 0;position: absolute;width: 1px;}#sk-container-id-4 div.sk-estimator {font-family: monospace;background-color: #f0f8ff;border: 1px dotted black;border-radius: 0.25em;box-sizing: border-box;margin-bottom: 0.5em;}#sk-container-id-4 div.sk-estimator:hover {background-color: #d4ebff;}#sk-container-id-4 div.sk-parallel-item::after {content: \"\";width: 100%;border-bottom: 1px solid gray;flex-grow: 1;}#sk-container-id-4 div.sk-label:hover label.sk-toggleable__label {background-color: #d4ebff;}#sk-container-id-4 div.sk-serial::before {content: \"\";position: absolute;border-left: 1px solid gray;box-sizing: border-box;top: 0;bottom: 0;left: 50%;z-index: 0;}#sk-container-id-4 div.sk-serial {display: flex;flex-direction: column;align-items: center;background-color: white;padding-right: 0.2em;padding-left: 0.2em;position: relative;}#sk-container-id-4 div.sk-item {position: relative;z-index: 1;}#sk-container-id-4 div.sk-parallel {display: flex;align-items: stretch;justify-content: center;background-color: white;position: relative;}#sk-container-id-4 div.sk-item::before, #sk-container-id-4 div.sk-parallel-item::before {content: \"\";position: absolute;border-left: 1px solid gray;box-sizing: border-box;top: 0;bottom: 0;left: 50%;z-index: -1;}#sk-container-id-4 div.sk-parallel-item {display: flex;flex-direction: column;z-index: 1;position: relative;background-color: white;}#sk-container-id-4 div.sk-parallel-item:first-child::after {align-self: flex-end;width: 50%;}#sk-container-id-4 div.sk-parallel-item:last-child::after {align-self: flex-start;width: 50%;}#sk-container-id-4 div.sk-parallel-item:only-child::after {width: 0;}#sk-container-id-4 div.sk-dashed-wrapped {border: 1px dashed gray;margin: 0 0.4em 0.5em 0.4em;box-sizing: border-box;padding-bottom: 0.4em;background-color: white;}#sk-container-id-4 div.sk-label label {font-family: monospace;font-weight: bold;display: inline-block;line-height: 1.2em;}#sk-container-id-4 div.sk-label-container {text-align: center;}#sk-container-id-4 div.sk-container {/* jupyter's `normalize.less` sets `[hidden] { display: none; }` but bootstrap.min.css set `[hidden] { display: none !important; }` so we also need the `!important` here to be able to override the default hidden behavior on the sphinx rendered scikit-learn.org. See: https://github.com/scikit-learn/scikit-learn/issues/21755 */display: inline-block !important;position: relative;}#sk-container-id-4 div.sk-text-repr-fallback {display: none;}</style><div id=\"sk-container-id-4\" class=\"sk-top-container\"><div class=\"sk-text-repr-fallback\"><pre>LogisticRegression(max_iter=1, random_state=42)</pre><b>In a Jupyter environment, please rerun this cell to show the HTML representation or trust the notebook. <br />On GitHub, the HTML representation is unable to render, please try loading this page with nbviewer.org.</b></div><div class=\"sk-container\" hidden><div class=\"sk-item\"><div class=\"sk-estimator sk-toggleable\"><input class=\"sk-toggleable__control sk-hidden--visually\" id=\"sk-estimator-id-4\" type=\"checkbox\" checked><label for=\"sk-estimator-id-4\" class=\"sk-toggleable__label sk-toggleable__label-arrow\">LogisticRegression</label><div class=\"sk-toggleable__content\"><pre>LogisticRegression(max_iter=1, random_state=42)</pre></div></div></div></div></div>"
      ],
      "text/plain": [
       "LogisticRegression(max_iter=1, random_state=42)"
      ]
     },
     "execution_count": 28,
     "metadata": {},
     "output_type": "execute_result"
    }
   ],
   "source": [
    "lr_classifier = LogisticRegression(random_state=42, max_iter=1)\n",
    "lr_classifier.fit(X_train_tfidf, y_train)"
   ]
  },
  {
   "cell_type": "code",
   "execution_count": 29,
   "id": "4bcccdd5",
   "metadata": {},
   "outputs": [
    {
     "name": "stdout",
     "output_type": "stream",
     "text": [
      "              precision    recall  f1-score   support\n",
      "\n",
      "         0.0       0.80      1.00      0.89      6143\n",
      "         1.0       0.99      0.59      0.74      3602\n",
      "\n",
      "    accuracy                           0.84      9745\n",
      "   macro avg       0.90      0.79      0.81      9745\n",
      "weighted avg       0.87      0.84      0.83      9745\n",
      "\n"
     ]
    }
   ],
   "source": [
    "print(classification_report(y_true=y_test, y_pred=lr_classifier.predict(X_test_tfidf)))"
   ]
  },
  {
   "cell_type": "code",
   "execution_count": null,
   "id": "c95c146d",
   "metadata": {},
   "outputs": [],
   "source": []
  }
 ],
 "metadata": {
  "kernelspec": {
   "display_name": "Python 3 (ipykernel)",
   "language": "python",
   "name": "python3"
  },
  "language_info": {
   "codemirror_mode": {
    "name": "ipython",
    "version": 3
   },
   "file_extension": ".py",
   "mimetype": "text/x-python",
   "name": "python",
   "nbconvert_exporter": "python",
   "pygments_lexer": "ipython3",
   "version": "3.11.8"
  }
 },
 "nbformat": 4,
 "nbformat_minor": 5
}
